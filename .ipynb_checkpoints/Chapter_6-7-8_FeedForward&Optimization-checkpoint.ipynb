{
 "cells": [
  {
   "cell_type": "code",
   "execution_count": 2,
   "metadata": {
    "collapsed": true
   },
   "outputs": [],
   "source": [
    "# These are all the modules we'll be using later. Make sure you can import them\n",
    "# before proceeding further.\n",
    "from __future__ import print_function\n",
    "import matplotlib.pyplot as plt\n",
    "import numpy as np\n",
    "import pandas as pd\n",
    "import os\n",
    "import sys\n",
    "import tarfile\n",
    "from IPython.display import display, Image\n",
    "from scipy import ndimage\n",
    "from six.moves.urllib.request import urlretrieve\n",
    "from six.moves import cPickle as pickle\n",
    "import random\n",
    "import tensorflow as tf\n",
    "\n",
    "# Config the matplotlib backend as plotting inline in IPython\n",
    "%matplotlib inline"
   ]
  },
  {
   "cell_type": "markdown",
   "metadata": {},
   "source": [
    "# Load Data"
   ]
  },
  {
   "cell_type": "code",
   "execution_count": 3,
   "metadata": {
    "scrolled": true
   },
   "outputs": [
    {
     "name": "stdout",
     "output_type": "stream",
     "text": [
      "Training set (200000, 28, 28) (200000,)\n",
      "Validation set (10000, 28, 28) (10000,)\n",
      "Test set (10000, 28, 28) (10000,)\n"
     ]
    }
   ],
   "source": [
    "pickle_file = 'Data/notMNIST.pickle'\n",
    "\n",
    "with open(pickle_file, 'rb') as f:\n",
    "  save = pickle.load(f)\n",
    "  train_dataset = save['train_dataset']\n",
    "  train_labels = save['train_labels']\n",
    "  valid_dataset = save['valid_dataset']\n",
    "  valid_labels = save['valid_labels']\n",
    "  test_dataset = save['test_dataset']\n",
    "  test_labels = save['test_labels']\n",
    "  del save  # hint to help gc free up memory\n",
    "  print('Training set', train_dataset.shape, train_labels.shape)\n",
    "  print('Validation set', valid_dataset.shape, valid_labels.shape)\n",
    "  print('Test set', test_dataset.shape, test_labels.shape)"
   ]
  },
  {
   "cell_type": "markdown",
   "metadata": {},
   "source": [
    "Reformat images as flat vector and labels as one hot encoded"
   ]
  },
  {
   "cell_type": "code",
   "execution_count": 4,
   "metadata": {
    "scrolled": true
   },
   "outputs": [
    {
     "name": "stdout",
     "output_type": "stream",
     "text": [
      "Training set (200000, 784) (200000, 10)\n",
      "Validation set (10000, 784) (10000, 10)\n",
      "Test set (10000, 784) (10000, 10)\n"
     ]
    }
   ],
   "source": [
    "image_size = 28\n",
    "num_labels = 10\n",
    "\n",
    "def reformat(dataset, labels):\n",
    "    dataset = dataset.reshape((-1, image_size * image_size)).astype(np.float32)\n",
    "    # Map 0 to [1.0, 0.0, 0.0 ...], 1 to [0.0, 1.0, 0.0 ...]\n",
    "    labels = (np.arange(num_labels) == labels[:,None]).astype(np.float32)\n",
    "    return dataset, labels\n",
    "train_dataset, train_labels = reformat(train_dataset, train_labels)\n",
    "valid_dataset, valid_labels = reformat(valid_dataset, valid_labels)\n",
    "test_dataset, test_labels = reformat(test_dataset, test_labels)\n",
    "print('Training set', train_dataset.shape, train_labels.shape)\n",
    "print('Validation set', valid_dataset.shape, valid_labels.shape)\n",
    "print('Test set', test_dataset.shape, test_labels.shape)"
   ]
  },
  {
   "cell_type": "code",
   "execution_count": 5,
   "metadata": {
    "collapsed": true
   },
   "outputs": [],
   "source": [
    "def plot_image(dataset, labels, id):\n",
    "    image = dataset[id]\n",
    "    image = image.reshape((image_size, image_size))\n",
    "    label = labels[id]\n",
    "    \n",
    "    plt.figure()\n",
    "    plt.imshow(image)\n",
    "    print(label)"
   ]
  },
  {
   "cell_type": "code",
   "execution_count": 6,
   "metadata": {
    "scrolled": true
   },
   "outputs": [
    {
     "name": "stdout",
     "output_type": "stream",
     "text": [
      "[ 0.  0.  0.  0.  1.  0.  0.  0.  0.  0.]\n"
     ]
    },
    {
     "data": {
      "image/png": "[encoded data removed]",
      "text/plain": [
       "<matplotlib.figure.Figure at 0x26efbce8fd0>"
      ]
     },
     "metadata": {},
     "output_type": "display_data"
    }
   ],
   "source": [
    "plot_image(train_dataset, train_labels, 20)"
   ]
  },
  {
   "cell_type": "markdown",
   "metadata": {},
   "source": [
    "# FeedForward Neural Net"
   ]
  },
  {
   "cell_type": "code",
   "execution_count": 7,
   "metadata": {
    "collapsed": true
   },
   "outputs": [],
   "source": [
    "def neural_net(architecture, batch_size, dropout, regularization, optimizer_name, learning_rate):\n",
    "\n",
    "    graph = tf.Graph()\n",
    "    with graph.as_default():\n",
    "\n",
    "        # Initialized as placeholder because this will be fed with minibatch during training\n",
    "        tf_train_dataset = tf.placeholder(tf.float32, shape=(batch_size, image_size * image_size))\n",
    "        tf_train_labels = tf.placeholder(tf.float32, shape=(batch_size, num_labels))\n",
    "        \n",
    "        # Constants\n",
    "        tf_valid_dataset = tf.constant(valid_dataset)\n",
    "        tf_test_dataset = tf.constant(test_dataset)\n",
    "        \n",
    "        weights = []\n",
    "        biases = []\n",
    "        Regularizations = []\n",
    "\n",
    "        # Variables\n",
    "        for layer in range(len(architecture)):\n",
    "            if layer == 0:\n",
    "                weights.append(tf.Variable(tf.truncated_normal([image_size * image_size, architecture[layer]])))\n",
    "            else :\n",
    "                weights.append(tf.Variable(tf.truncated_normal([architecture[layer-1], architecture[layer]])))\n",
    "                \n",
    "            biases.append(tf.Variable(tf.zeros([architecture[layer]])))\n",
    "            Regularizations.append(tf.nn.l2_loss(weights[layer]))\n",
    "\n",
    "        # Training Feedforward computation.\n",
    "        def model(data):\n",
    "            h = []\n",
    "            for layer in range(len(architecture)):\n",
    "                if layer == 0:\n",
    "                    h.append(tf.nn.dropout(tf.nn.relu(tf.matmul(data, weights[layer]) + biases[layer]), keep_prob=dropout))\n",
    "                elif layer == len(architecture)-1:\n",
    "                    h.append(tf.matmul(h[layer-1], weights[layer]) + biases[layer])\n",
    "                else :\n",
    "                    h.append(tf.nn.dropout(tf.nn.relu(tf.matmul(h[layer-1], weights[layer]) + biases[layer]), keep_prob=dropout))\n",
    "            \n",
    "            return h[len(architecture)-1]\n",
    "        \n",
    "        train_logits = model(tf_train_dataset)\n",
    "\n",
    "        # Loss\n",
    "        loss = tf.reduce_mean(\n",
    "            tf.nn.softmax_cross_entropy_with_logits(\n",
    "                labels=tf_train_labels, \n",
    "                logits=train_logits) + sum([regularization*_r for _r in Regularizations]))\n",
    "\n",
    "        # Optimizer.\n",
    "        if optimizer_name == \"sgd\":\n",
    "            optimizer = tf.train.GradientDescentOptimizer(learning_rate).minimize(loss)\n",
    "        elif optimizer_name == \"sgd_decay\":\n",
    "            global_step = tf.Variable(0)  # count the number of steps taken.\n",
    "            learning_rate = tf.train.exponential_decay(learning_rate, global_step, 500, 0.96)\n",
    "            optimizer = tf.train.GradientDescentOptimizer(learning_rate).minimize(loss, global_step=global_step)\n",
    "        elif optimizer_name == \"rmsprop\":\n",
    "            optimizer = tf.train.RMSPropOptimizer(learning_rate).minimize(loss)\n",
    "        elif optimizer_name == \"adam\":\n",
    "            optimizer = tf.train.AdamOptimizer(learning_rate).minimize(loss)\n",
    "\n",
    "        # Predictions for the training, validation, and test data.\n",
    "        train_prediction = tf.nn.softmax(train_logits)\n",
    "\n",
    "        valid_logits = model(tf_valid_dataset)\n",
    "        valid_prediction = tf.nn.softmax(valid_logits)\n",
    "\n",
    "        test_logits = model(tf_test_dataset)\n",
    "        test_prediction = tf.nn.softmax(test_logits)\n",
    "        \n",
    "        return tf_train_dataset, tf_train_labels, graph, optimizer, loss, train_prediction, valid_prediction, test_prediction"
   ]
  },
  {
   "cell_type": "markdown",
   "metadata": {},
   "source": [
    "# Training"
   ]
  },
  {
   "cell_type": "code",
   "execution_count": 8,
   "metadata": {
    "collapsed": true
   },
   "outputs": [],
   "source": [
    "def accuracy(predictions, labels):\n",
    "  return (100.0 * np.sum(np.argmax(predictions, 1) == np.argmax(labels, 1))\n",
    "          / predictions.shape[0])"
   ]
  },
  {
   "cell_type": "code",
   "execution_count": 9,
   "metadata": {
    "collapsed": true
   },
   "outputs": [],
   "source": [
    "def get_minibatch(batch_size, samples_id, training_size):\n",
    "    if batch_size > len(samples_id):\n",
    "        new_samples = list(range(training_size-1))\n",
    "        random.shuffle(new_samples)\n",
    "        samples_id.extend(new_samples)\n",
    "    \n",
    "    next_batch = samples_id[:batch_size]\n",
    "    samples_id = samples_id[batch_size:]\n",
    "    \n",
    "    return next_batch, samples_id "
   ]
  },
  {
   "cell_type": "code",
   "execution_count": 10,
   "metadata": {
    "collapsed": true,
    "scrolled": false
   },
   "outputs": [],
   "source": [
    "def train_nn(architecture, batch_size, num_epochs, early_stopping_patience, dropout=1, regularization=0, optimizer_name='sgd', learning_rate=0.1):\n",
    "    nb_steps = train_dataset.shape[0] // batch_size\n",
    "    tf_train_dataset, tf_train_labels, graph, optimizer, loss, train_prediction, valid_prediction, test_prediction = neural_net(architecture,\n",
    "                                                                                                                                batch_size, \n",
    "                                                                                                                                dropout, \n",
    "                                                                                                                                regularization, \n",
    "                                                                                                                                optimizer_name,\n",
    "                                                                                                                                learning_rate)\n",
    "\n",
    "    with tf.Session(graph=graph) as session:\n",
    "        tf.global_variables_initializer().run()\n",
    "        print(\"Initialized\")\n",
    "        early_stopping = False\n",
    "        for epoch in range(num_epochs):\n",
    "            if early_stopping : break\n",
    "            print(\"Epoch : \" + str(epoch))\n",
    "            ids = []\n",
    "            for step in range(nb_steps):\n",
    "                batch_ids, ids = get_minibatch(batch_size, ids, train_dataset.shape[0])\n",
    "                batch_data = train_dataset[batch_ids, :]\n",
    "                batch_labels = train_labels[batch_ids, :]\n",
    "\n",
    "                feed_dict = {tf_train_dataset : batch_data, tf_train_labels : batch_labels}\n",
    "                _, l, predictions = session.run(\n",
    "                  [optimizer, loss, train_prediction], feed_dict=feed_dict)\n",
    "\n",
    "                if (step % 500 == 0):\n",
    "                    print(\"Minibatch loss at epoch %d and step %d: %f\" % (epoch, step, l))\n",
    "                    print(\"Minibatch accuracy: %.1f%%\" % accuracy(predictions, batch_labels))\n",
    "                    print(\"Validation accuracy: %.1f%%\" % accuracy(valid_prediction.eval(), valid_labels))\n",
    "                    \n",
    "                # Early Stopping\n",
    "                min_delta = 0.01\n",
    "                \n",
    "                if step == 0:\n",
    "                    patience_cnt = 0\n",
    "                if step > 0 and old_loss - l > min_delta:\n",
    "                    patience_cnt = 0\n",
    "                else:\n",
    "                    patience_cnt += 1\n",
    "                    \n",
    "                old_loss = l\n",
    "\n",
    "                if patience_cnt > early_stopping_patience:\n",
    "                    print(\"early stopping...\")\n",
    "                    early_stopping = True\n",
    "                    break\n",
    "        print(\"Test accuracy: %.1f%%\" % accuracy(test_prediction.eval(), test_labels))"
   ]
  },
  {
   "cell_type": "markdown",
   "metadata": {},
   "source": [
    "# Tests"
   ]
  },
  {
   "cell_type": "code",
   "execution_count": 1,
   "metadata": {
    "scrolled": true
   },
   "outputs": [
    {
     "ename": "NameError",
     "evalue": "name 'train_nn' is not defined",
     "output_type": "error",
     "traceback": [
      "\u001b[1;31m---------------------------------------------------------------------------\u001b[0m",
      "\u001b[1;31mNameError\u001b[0m                                 Traceback (most recent call last)",
      "\u001b[1;32m<ipython-input-1-8e0352650b40>\u001b[0m in \u001b[0;36m<module>\u001b[1;34m()\u001b[0m\n\u001b[1;32m----> 1\u001b[1;33m train_nn(architecture=[500, 200, num_labels],\n\u001b[0m\u001b[0;32m      2\u001b[0m          \u001b[0mbatch_size\u001b[0m\u001b[1;33m=\u001b[0m\u001b[1;36m128\u001b[0m\u001b[1;33m,\u001b[0m\u001b[1;33m\u001b[0m\u001b[0m\n\u001b[0;32m      3\u001b[0m          \u001b[0mnum_epochs\u001b[0m\u001b[1;33m=\u001b[0m\u001b[1;36m20\u001b[0m\u001b[1;33m,\u001b[0m\u001b[1;33m\u001b[0m\u001b[0m\n\u001b[0;32m      4\u001b[0m          \u001b[0mearly_stopping_patience\u001b[0m\u001b[1;33m=\u001b[0m\u001b[1;36m16\u001b[0m\u001b[1;33m,\u001b[0m\u001b[1;33m\u001b[0m\u001b[0m\n\u001b[0;32m      5\u001b[0m          optimizer_name=\"sgd\")\n",
      "\u001b[1;31mNameError\u001b[0m: name 'train_nn' is not defined"
     ]
    }
   ],
   "source": [
    "train_nn(architecture=[500, 200, num_labels],\n",
    "         batch_size=128, \n",
    "         num_epochs=20, \n",
    "         early_stopping_patience=16,\n",
    "         optimizer_name=\"sgd\")"
   ]
  },
  {
   "cell_type": "code",
   "execution_count": null,
   "metadata": {
    "scrolled": true
   },
   "outputs": [],
   "source": [
    "train_nn(architecture=[1024, num_labels],\n",
    "         batch_size=128, \n",
    "         num_epochs=20, \n",
    "         early_stopping_patience=16,\n",
    "         optimizer_name=\"sgd\")"
   ]
  },
  {
   "cell_type": "code",
   "execution_count": null,
   "metadata": {
    "scrolled": true
   },
   "outputs": [],
   "source": [
    "train_nn(architecture=[1024, num_labels],\n",
    "         batch_size=128, \n",
    "         num_epochs=20, \n",
    "         early_stopping_patience=16,\n",
    "         optimizer_name=\"sgd_decay\")"
   ]
  },
  {
   "cell_type": "code",
   "execution_count": null,
   "metadata": {
    "scrolled": true
   },
   "outputs": [],
   "source": [
    "train_nn(architecture=[1024, num_labels],\n",
    "         batch_size=128, \n",
    "         num_epochs=20, \n",
    "         early_stopping_patience=16,\n",
    "         optimizer_name=\"rmsprop\",\n",
    "         learning_rate=0.01)"
   ]
  },
  {
   "cell_type": "code",
   "execution_count": null,
   "metadata": {
    "scrolled": true
   },
   "outputs": [],
   "source": [
    "train_nn(architecture=[1024, num_labels],\n",
    "         batch_size=128, \n",
    "         num_epochs=20, \n",
    "         early_stopping_patience=16,\n",
    "         optimizer_name=\"adam\",\n",
    "         learning_rate=0.01)"
   ]
  },
  {
   "cell_type": "code",
   "execution_count": null,
   "metadata": {
    "scrolled": true
   },
   "outputs": [],
   "source": [
    "train_nn(architecture=[1024, num_labels],\n",
    "         batch_size=128, \n",
    "         num_epochs=20, \n",
    "         early_stopping_patience=16,\n",
    "         optimizer_name=\"rmsprop\",\n",
    "         learning_rate=0.01,\n",
    "         dropout=0.8)"
   ]
  },
  {
   "cell_type": "code",
   "execution_count": 17,
   "metadata": {
    "scrolled": true
   },
   "outputs": [
    {
     "name": "stdout",
     "output_type": "stream",
     "text": [
      "Initialized\n",
      "Epoch : 0\n",
      "Minibatch loss at epoch 0 and step 0: 494.704498\n",
      "Minibatch accuracy: 14.1%\n",
      "Validation accuracy: 10.5%\n",
      "Minibatch loss at epoch 0 and step 500: 31.139427\n",
      "Minibatch accuracy: 84.4%\n",
      "Validation accuracy: 82.3%\n",
      "Minibatch loss at epoch 0 and step 1000: 33.425377\n",
      "Minibatch accuracy: 85.2%\n",
      "Validation accuracy: 82.2%\n",
      "Minibatch loss at epoch 0 and step 1500: 24.140602\n",
      "Minibatch accuracy: 83.6%\n",
      "Validation accuracy: 81.5%\n",
      "Epoch : 1\n",
      "Minibatch loss at epoch 1 and step 0: 13.163796\n",
      "Minibatch accuracy: 90.6%\n",
      "Validation accuracy: 84.0%\n",
      "Minibatch loss at epoch 1 and step 500: 18.566914\n",
      "Minibatch accuracy: 77.3%\n",
      "Validation accuracy: 82.8%\n",
      "Minibatch loss at epoch 1 and step 1000: 3.680881\n",
      "Minibatch accuracy: 89.8%\n",
      "Validation accuracy: 83.8%\n",
      "Minibatch loss at epoch 1 and step 1500: 24.066389\n",
      "Minibatch accuracy: 82.0%\n",
      "Validation accuracy: 83.3%\n",
      "Epoch : 2\n",
      "Minibatch loss at epoch 2 and step 0: 4.144438\n",
      "Minibatch accuracy: 88.3%\n",
      "Validation accuracy: 81.6%\n",
      "Minibatch loss at epoch 2 and step 500: 8.513011\n",
      "Minibatch accuracy: 85.2%\n",
      "Validation accuracy: 83.8%\n",
      "Minibatch loss at epoch 2 and step 1000: 4.608531\n",
      "Minibatch accuracy: 89.1%\n",
      "Validation accuracy: 82.7%\n",
      "Minibatch loss at epoch 2 and step 1500: 2.803911\n",
      "Minibatch accuracy: 82.0%\n",
      "Validation accuracy: 83.3%\n",
      "Epoch : 3\n",
      "Minibatch loss at epoch 3 and step 0: 2.257047\n",
      "Minibatch accuracy: 82.0%\n",
      "Validation accuracy: 83.5%\n",
      "Minibatch loss at epoch 3 and step 500: 1.491660\n",
      "Minibatch accuracy: 92.2%\n",
      "Validation accuracy: 80.4%\n",
      "Minibatch loss at epoch 3 and step 1000: 4.305891\n",
      "Minibatch accuracy: 87.5%\n",
      "Validation accuracy: 80.6%\n",
      "Minibatch loss at epoch 3 and step 1500: 4.118693\n",
      "Minibatch accuracy: 79.7%\n",
      "Validation accuracy: 84.8%\n",
      "Epoch : 4\n",
      "Minibatch loss at epoch 4 and step 0: 5.521076\n",
      "Minibatch accuracy: 82.8%\n",
      "Validation accuracy: 82.8%\n",
      "Minibatch loss at epoch 4 and step 500: 3.246701\n",
      "Minibatch accuracy: 83.6%\n",
      "Validation accuracy: 83.8%\n",
      "Minibatch loss at epoch 4 and step 1000: 1.968289\n",
      "Minibatch accuracy: 81.2%\n",
      "Validation accuracy: 84.3%\n",
      "Minibatch loss at epoch 4 and step 1500: 1.261908\n",
      "Minibatch accuracy: 82.8%\n",
      "Validation accuracy: 83.6%\n",
      "Epoch : 5\n",
      "Minibatch loss at epoch 5 and step 0: 1.632128\n",
      "Minibatch accuracy: 87.5%\n",
      "Validation accuracy: 82.6%\n",
      "Minibatch loss at epoch 5 and step 500: 1.464065\n",
      "Minibatch accuracy: 85.9%\n",
      "Validation accuracy: 84.0%\n",
      "Minibatch loss at epoch 5 and step 1000: 1.742203\n",
      "Minibatch accuracy: 78.1%\n",
      "Validation accuracy: 84.3%\n",
      "Minibatch loss at epoch 5 and step 1500: 0.800456\n",
      "Minibatch accuracy: 90.6%\n",
      "Validation accuracy: 83.9%\n",
      "Epoch : 6\n",
      "Minibatch loss at epoch 6 and step 0: 0.926421\n",
      "Minibatch accuracy: 89.1%\n",
      "Validation accuracy: 84.4%\n",
      "Minibatch loss at epoch 6 and step 500: 1.773379\n",
      "Minibatch accuracy: 84.4%\n",
      "Validation accuracy: 84.5%\n",
      "Minibatch loss at epoch 6 and step 1000: 1.697915\n",
      "Minibatch accuracy: 81.2%\n",
      "Validation accuracy: 84.5%\n",
      "Minibatch loss at epoch 6 and step 1500: 0.723955\n",
      "Minibatch accuracy: 87.5%\n",
      "Validation accuracy: 85.1%\n",
      "Epoch : 7\n",
      "Minibatch loss at epoch 7 and step 0: 1.203966\n",
      "Minibatch accuracy: 87.5%\n",
      "Validation accuracy: 83.2%\n",
      "Minibatch loss at epoch 7 and step 500: 0.402014\n",
      "Minibatch accuracy: 93.0%\n",
      "Validation accuracy: 84.2%\n",
      "Minibatch loss at epoch 7 and step 1000: 1.746082\n",
      "Minibatch accuracy: 87.5%\n",
      "Validation accuracy: 83.5%\n",
      "Minibatch loss at epoch 7 and step 1500: 1.442610\n",
      "Minibatch accuracy: 87.5%\n",
      "Validation accuracy: 85.0%\n",
      "Epoch : 8\n",
      "Minibatch loss at epoch 8 and step 0: 1.245024\n",
      "Minibatch accuracy: 85.2%\n",
      "Validation accuracy: 84.5%\n",
      "Minibatch loss at epoch 8 and step 500: 0.653807\n",
      "Minibatch accuracy: 88.3%\n",
      "Validation accuracy: 84.6%\n",
      "Minibatch loss at epoch 8 and step 1000: 1.806819\n",
      "Minibatch accuracy: 85.9%\n",
      "Validation accuracy: 85.2%\n",
      "Minibatch loss at epoch 8 and step 1500: 0.820445\n",
      "Minibatch accuracy: 85.9%\n",
      "Validation accuracy: 86.1%\n",
      "Epoch : 9\n",
      "Minibatch loss at epoch 9 and step 0: 1.690301\n",
      "Minibatch accuracy: 88.3%\n",
      "Validation accuracy: 86.1%\n",
      "Minibatch loss at epoch 9 and step 500: 0.932352\n",
      "Minibatch accuracy: 86.7%\n",
      "Validation accuracy: 85.4%\n",
      "Minibatch loss at epoch 9 and step 1000: 2.539573\n",
      "Minibatch accuracy: 84.4%\n",
      "Validation accuracy: 83.6%\n",
      "Minibatch loss at epoch 9 and step 1500: 1.566644\n",
      "Minibatch accuracy: 84.4%\n",
      "Validation accuracy: 83.5%\n",
      "Epoch : 10\n",
      "Minibatch loss at epoch 10 and step 0: 1.375685\n",
      "Minibatch accuracy: 89.8%\n",
      "Validation accuracy: 85.2%\n",
      "Minibatch loss at epoch 10 and step 500: 0.891621\n",
      "Minibatch accuracy: 84.4%\n",
      "Validation accuracy: 85.6%\n",
      "Minibatch loss at epoch 10 and step 1000: 0.565610\n",
      "Minibatch accuracy: 89.1%\n",
      "Validation accuracy: 85.5%\n",
      "Minibatch loss at epoch 10 and step 1500: 0.821953\n",
      "Minibatch accuracy: 87.5%\n",
      "Validation accuracy: 86.0%\n",
      "Epoch : 11\n",
      "Minibatch loss at epoch 11 and step 0: 0.772510\n",
      "Minibatch accuracy: 90.6%\n",
      "Validation accuracy: 85.7%\n",
      "Minibatch loss at epoch 11 and step 500: 0.731001\n",
      "Minibatch accuracy: 91.4%\n",
      "Validation accuracy: 86.1%\n",
      "Minibatch loss at epoch 11 and step 1000: 0.909752\n",
      "Minibatch accuracy: 88.3%\n",
      "Validation accuracy: 83.9%\n",
      "Minibatch loss at epoch 11 and step 1500: 1.525423\n",
      "Minibatch accuracy: 87.5%\n",
      "Validation accuracy: 85.1%\n",
      "Epoch : 12\n",
      "Minibatch loss at epoch 12 and step 0: 2.368240\n",
      "Minibatch accuracy: 89.8%\n",
      "Validation accuracy: 83.3%\n",
      "Minibatch loss at epoch 12 and step 500: 0.604242\n",
      "Minibatch accuracy: 89.8%\n",
      "Validation accuracy: 85.3%\n",
      "Minibatch loss at epoch 12 and step 1000: 1.676209\n",
      "Minibatch accuracy: 87.5%\n",
      "Validation accuracy: 86.1%\n",
      "Minibatch loss at epoch 12 and step 1500: 0.654934\n",
      "Minibatch accuracy: 87.5%\n",
      "Validation accuracy: 86.0%\n",
      "Epoch : 13\n",
      "Minibatch loss at epoch 13 and step 0: 0.409131\n",
      "Minibatch accuracy: 91.4%\n",
      "Validation accuracy: 85.8%\n",
      "Minibatch loss at epoch 13 and step 500: 0.853076\n",
      "Minibatch accuracy: 89.8%\n",
      "Validation accuracy: 86.1%\n",
      "Minibatch loss at epoch 13 and step 1000: 2.562314\n",
      "Minibatch accuracy: 88.3%\n",
      "Validation accuracy: 85.3%\n",
      "Minibatch loss at epoch 13 and step 1500: 1.222062\n",
      "Minibatch accuracy: 89.1%\n",
      "Validation accuracy: 85.4%\n",
      "Epoch : 14\n",
      "Minibatch loss at epoch 14 and step 0: 1.304786\n",
      "Minibatch accuracy: 89.8%\n",
      "Validation accuracy: 86.1%\n",
      "Minibatch loss at epoch 14 and step 500: 0.246739\n",
      "Minibatch accuracy: 93.0%\n",
      "Validation accuracy: 86.0%\n",
      "Minibatch loss at epoch 14 and step 1000: 0.639189\n",
      "Minibatch accuracy: 91.4%\n",
      "Validation accuracy: 85.8%\n",
      "Minibatch loss at epoch 14 and step 1500: 0.680214\n",
      "Minibatch accuracy: 89.8%\n",
      "Validation accuracy: 85.3%\n",
      "Epoch : 15\n",
      "Minibatch loss at epoch 15 and step 0: 0.996844\n",
      "Minibatch accuracy: 89.8%\n",
      "Validation accuracy: 85.5%\n",
      "Minibatch loss at epoch 15 and step 500: 2.220296\n",
      "Minibatch accuracy: 90.6%\n",
      "Validation accuracy: 85.8%\n",
      "Minibatch loss at epoch 15 and step 1000: 0.573934\n",
      "Minibatch accuracy: 90.6%\n",
      "Validation accuracy: 85.6%\n",
      "Minibatch loss at epoch 15 and step 1500: 1.107354\n",
      "Minibatch accuracy: 87.5%\n",
      "Validation accuracy: 85.7%\n",
      "Epoch : 16\n",
      "Minibatch loss at epoch 16 and step 0: 0.642003\n",
      "Minibatch accuracy: 92.2%\n",
      "Validation accuracy: 86.0%\n",
      "Minibatch loss at epoch 16 and step 500: 1.591166\n",
      "Minibatch accuracy: 90.6%\n",
      "Validation accuracy: 86.0%\n",
      "Minibatch loss at epoch 16 and step 1000: 1.238733\n",
      "Minibatch accuracy: 86.7%\n",
      "Validation accuracy: 86.1%\n",
      "Minibatch loss at epoch 16 and step 1500: 2.656182\n",
      "Minibatch accuracy: 86.7%\n",
      "Validation accuracy: 85.5%\n",
      "Epoch : 17\n",
      "Minibatch loss at epoch 17 and step 0: 3.755675\n",
      "Minibatch accuracy: 90.6%\n",
      "Validation accuracy: 86.6%\n",
      "Minibatch loss at epoch 17 and step 500: 1.508085\n",
      "Minibatch accuracy: 85.9%\n",
      "Validation accuracy: 86.1%\n",
      "Minibatch loss at epoch 17 and step 1000: 0.323967\n",
      "Minibatch accuracy: 94.5%\n",
      "Validation accuracy: 85.9%\n",
      "Minibatch loss at epoch 17 and step 1500: 2.940991\n",
      "Minibatch accuracy: 83.6%\n",
      "Validation accuracy: 86.1%\n",
      "Epoch : 18\n",
      "Minibatch loss at epoch 18 and step 0: 0.104431\n",
      "Minibatch accuracy: 96.9%\n",
      "Validation accuracy: 85.8%\n",
      "Minibatch loss at epoch 18 and step 500: 0.423586\n",
      "Minibatch accuracy: 89.1%\n",
      "Validation accuracy: 86.2%\n",
      "Minibatch loss at epoch 18 and step 1000: 0.947741\n",
      "Minibatch accuracy: 86.7%\n",
      "Validation accuracy: 85.0%\n",
      "Minibatch loss at epoch 18 and step 1500: 0.384327\n",
      "Minibatch accuracy: 93.0%\n",
      "Validation accuracy: 86.6%\n",
      "Epoch : 19\n",
      "Minibatch loss at epoch 19 and step 0: 0.920662\n",
      "Minibatch accuracy: 89.1%\n",
      "Validation accuracy: 86.0%\n",
      "Minibatch loss at epoch 19 and step 500: 0.660909\n",
      "Minibatch accuracy: 93.0%\n",
      "Validation accuracy: 86.1%\n"
     ]
    },
    {
     "name": "stdout",
     "output_type": "stream",
     "text": [
      "Minibatch loss at epoch 19 and step 1000: 2.077642\n",
      "Minibatch accuracy: 91.4%\n",
      "Validation accuracy: 85.2%\n",
      "Minibatch loss at epoch 19 and step 1500: 0.991121\n",
      "Minibatch accuracy: 89.8%\n",
      "Validation accuracy: 86.2%\n",
      "Test accuracy: 92.9%\n"
     ]
    }
   ],
   "source": [
    "train_nn(architecture=[2048, num_labels],\n",
    "         batch_size=128, \n",
    "         num_epochs=20,\n",
    "         learning_rate=0.01,\n",
    "         early_stopping_patience=16,\n",
    "         optimizer_name=\"rmsprop\")"
   ]
  }
 ],
 "metadata": {
  "kernelspec": {
   "display_name": "Python 3",
   "language": "python",
   "name": "python3"
  },
  "language_info": {
   "codemirror_mode": {
    "name": "ipython",
    "version": 3
   },
   "file_extension": ".py",
   "mimetype": "text/x-python",
   "name": "python",
   "nbconvert_exporter": "python",
   "pygments_lexer": "ipython3",
   "version": "3.6.1"
  }
 },
 "nbformat": 4,
 "nbformat_minor": 2
}

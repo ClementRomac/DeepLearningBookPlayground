{
 "cells": [
  {
   "cell_type": "code",
   "execution_count": 1,
   "metadata": {
    "collapsed": true
   },
   "outputs": [
    {
     "name": "stderr",
     "output_type": "stream",
     "text": [
      "D:\\Programmes\\Anaconda3\\lib\\site-packages\\h5py\\__init__.py:36: FutureWarning: Conversion of the second argument of issubdtype from `float` to `np.floating` is deprecated. In future, it will be treated as `np.float64 == np.dtype(float).type`.\n",
      "  from ._conv import register_converters as _register_converters\n"
     ]
    }
   ],
   "source": [
    "# These are all the modules we'll be using later. Make sure you can import them\n",
    "# before proceeding further.\n",
    "from __future__ import print_function\n",
    "import matplotlib.pyplot as plt\n",
    "import numpy as np\n",
    "import pandas as pd\n",
    "import os\n",
    "import sys\n",
    "import tarfile\n",
    "from IPython.display import display, Image\n",
    "from scipy import ndimage\n",
    "from six.moves.urllib.request import urlretrieve\n",
    "from six.moves import cPickle as pickle\n",
    "import random\n",
    "import tensorflow as tf\n",
    "import math\n",
    "\n",
    "# Config the matplotlib backend as plotting inline in IPython\n",
    "%matplotlib inline"
   ]
  },
  {
   "cell_type": "markdown",
   "metadata": {},
   "source": [
    "# Load Data"
   ]
  },
  {
   "cell_type": "code",
   "execution_count": 2,
   "metadata": {
    "scrolled": true
   },
   "outputs": [
    {
     "name": "stdout",
     "output_type": "stream",
     "text": [
      "Training set (200000, 28, 28) (200000,)\n",
      "Validation set (10000, 28, 28) (10000,)\n",
      "Test set (10000, 28, 28) (10000,)\n"
     ]
    }
   ],
   "source": [
    "pickle_file = 'Data/notMNIST.pickle'\n",
    "\n",
    "with open(pickle_file, 'rb') as f:\n",
    "  save = pickle.load(f)\n",
    "  train_dataset = save['train_dataset']\n",
    "  train_labels = save['train_labels']\n",
    "  valid_dataset = save['valid_dataset']\n",
    "  valid_labels = save['valid_labels']\n",
    "  test_dataset = save['test_dataset']\n",
    "  test_labels = save['test_labels']\n",
    "  del save  # hint to help gc free up memory\n",
    "  print('Training set', train_dataset.shape, train_labels.shape)\n",
    "  print('Validation set', valid_dataset.shape, valid_labels.shape)\n",
    "  print('Test set', test_dataset.shape, test_labels.shape)"
   ]
  },
  {
   "cell_type": "code",
   "execution_count": 3,
   "metadata": {
    "scrolled": true
   },
   "outputs": [
    {
     "name": "stdout",
     "output_type": "stream",
     "text": [
      "Training set (200000, 28, 28, 1) (200000, 10)\n",
      "Validation set (10000, 28, 28, 1) (10000, 10)\n",
      "Test set (10000, 28, 28, 1) (10000, 10)\n"
     ]
    }
   ],
   "source": [
    "image_size = 28\n",
    "num_labels = 10\n",
    "num_channels = 1 # grayscale\n",
    "\n",
    "import numpy as np\n",
    "\n",
    "def reformat(dataset, labels):\n",
    "  dataset = dataset.reshape(\n",
    "    (-1, image_size, image_size, num_channels)).astype(np.float32)\n",
    "  labels = (np.arange(num_labels) == labels[:,None]).astype(np.float32)\n",
    "  return dataset, labels\n",
    "train_dataset, train_labels = reformat(train_dataset, train_labels)\n",
    "valid_dataset, valid_labels = reformat(valid_dataset, valid_labels)\n",
    "test_dataset, test_labels = reformat(test_dataset, test_labels)\n",
    "print('Training set', train_dataset.shape, train_labels.shape)\n",
    "print('Validation set', valid_dataset.shape, valid_labels.shape)\n",
    "print('Test set', test_dataset.shape, test_labels.shape)"
   ]
  },
  {
   "cell_type": "code",
   "execution_count": 4,
   "metadata": {
    "collapsed": true
   },
   "outputs": [],
   "source": [
    "def plot_image(dataset, labels, id):\n",
    "    image = dataset[id]\n",
    "    image = image.reshape((image_size, image_size))\n",
    "    label = labels[id]\n",
    "    \n",
    "    plt.figure()\n",
    "    plt.imshow(image, cmap='binary')\n",
    "    print(label)"
   ]
  },
  {
   "cell_type": "code",
   "execution_count": 5,
   "metadata": {
    "collapsed": true
   },
   "outputs": [],
   "source": [
    "\n",
    "def plot_images(images, cls_true, cls_pred=None):\n",
    "    assert len(images) == len(cls_true) == 9\n",
    "    \n",
    "    # Create figure with 3x3 sub-plots.\n",
    "    fig, axes = plt.subplots(3, 3)\n",
    "    fig.subplots_adjust(hspace=0.3, wspace=0.3)\n",
    "\n",
    "    for i, ax in enumerate(axes.flat):\n",
    "        # Plot image.\n",
    "        ax.imshow(images[i].reshape([image_size,image_size]), cmap='binary')\n",
    "\n",
    "        # Show true and predicted classes.\n",
    "        if cls_pred is None:\n",
    "            xlabel = \"True: {0}\".format(cls_true[i])\n",
    "        else:\n",
    "            xlabel = \"True: {0}, Pred: {1}\".format(cls_true[i], cls_pred[i])\n",
    "\n",
    "        # Show the classes as the label on the x-axis.\n",
    "        ax.set_xlabel(xlabel)\n",
    "        \n",
    "        # Remove ticks from the plot.\n",
    "        ax.set_xticks([])\n",
    "        ax.set_yticks([])\n",
    "    \n",
    "    # Ensure the plot is shown correctly with multiple plots\n",
    "    # in a single Notebook cell.\n",
    "    plt.show()"
   ]
  },
  {
   "cell_type": "code",
   "execution_count": 6,
   "metadata": {},
   "outputs": [
    {
     "data": {
      "image/png": "[encoded data removed]",
      "text/plain": [
       "<matplotlib.figure.Figure at 0x15ab05de908>"
      ]
     },
     "metadata": {},
     "output_type": "display_data"
    }
   ],
   "source": [
    "# Get the first images from the test-set.\n",
    "images = train_dataset[0:9]\n",
    "\n",
    "# Get the true classes for those images.\n",
    "cls_true = train_labels[0:9]\n",
    "\n",
    "# Plot the images and labels using our helper-function above.\n",
    "plot_images(images=images, cls_true=cls_true)"
   ]
  },
  {
   "cell_type": "markdown",
   "metadata": {},
   "source": [
    "# Convolutional Neural Net"
   ]
  },
  {
   "cell_type": "code",
   "execution_count": 7,
   "metadata": {
    "collapsed": true
   },
   "outputs": [],
   "source": [
    "def neural_net(architecture, batch_size, dropout, regularization, optimizer_name, learning_rate):\n",
    "    graph = tf.Graph()\n",
    "    with graph.as_default():\n",
    "\n",
    "        # Initialized as placeholder because this will be fed with minibatch during training\n",
    "        tf_train_dataset = tf.placeholder(\n",
    "            tf.float32, shape=(batch_size, image_size, image_size, num_channels))\n",
    "        tf_train_labels = tf.placeholder(tf.float32, shape=(batch_size, num_labels))\n",
    "        \n",
    "        # Constants\n",
    "        tf_valid_dataset = tf.constant(valid_dataset)\n",
    "        tf_test_dataset = tf.constant(test_dataset)\n",
    "        \n",
    "        weights = []\n",
    "        biases = []\n",
    "        Regularizations = []\n",
    "\n",
    "        # Variables\n",
    "        for layer in range(len(architecture)):\n",
    "            if layer == 0:\n",
    "                weights.append(tf.Variable(tf.truncated_normal([\n",
    "                    architecture[layer]['patch_size'],\n",
    "                    architecture[layer]['patch_size'],\n",
    "                    num_channels, \n",
    "                    architecture[layer]['depth']], stddev=0.1)))\n",
    "                \n",
    "                biases.append(tf.Variable(tf.zeros([architecture[layer]['depth']])))\n",
    "            else :\n",
    "                if 'depth' in architecture[layer]:\n",
    "                    weights.append(tf.Variable(tf.truncated_normal([\n",
    "                        architecture[layer]['patch_size'],\n",
    "                        architecture[layer]['patch_size'],\n",
    "                        architecture[layer-1]['depth'], \n",
    "                        architecture[layer]['depth']], stddev=0.1)))\n",
    "                    \n",
    "                    biases.append(tf.Variable(tf.zeros([architecture[layer]['depth']])))\n",
    "                else:\n",
    "                    if 'depth' in architecture[layer-1]:\n",
    "                        conv_layers = len([item for item in architecture if 'depth' in item ])\n",
    "                        if conv_layers == 1:\n",
    "                            weights.append(tf.Variable(tf.truncated_normal([\n",
    "                                image_size // 2 * image_size // 2 * architecture[layer-1]['depth'],\n",
    "                                architecture[layer]['num_hidden']], stddev=0.1)))\n",
    "                        else:\n",
    "                            weights.append(tf.Variable(tf.truncated_normal([\n",
    "                                image_size // 4 * image_size // 4 * architecture[layer-1]['depth'],\n",
    "                                architecture[layer]['num_hidden']], stddev=0.1)))\n",
    "                    else:\n",
    "                        weights.append(tf.Variable(tf.truncated_normal([\n",
    "                            architecture[layer-1]['num_hidden'],\n",
    "                            architecture[layer]['num_hidden']], stddev=0.1)))\n",
    "                        \n",
    "                    biases.append(tf.Variable(tf.zeros([architecture[layer]['num_hidden']])))\n",
    "                \n",
    "            Regularizations.append(tf.nn.l2_loss(weights[layer]))\n",
    "\n",
    "        # Training Feedforward computation.\n",
    "        def model(data):\n",
    "            h = []\n",
    "            for layer in range(len(architecture)):\n",
    "                if layer == 0:\n",
    "                    conv = tf.nn.conv2d(data, weights[layer], [1, 1, 1, 1], padding='SAME')\n",
    "                    hidden = tf.nn.dropout(tf.nn.relu(conv + biases[layer]), keep_prob=dropout)\n",
    "                    h.append(tf.nn.max_pool(hidden, [1, 2, 2, 1], [1, 2, 2, 1], padding='SAME'))\n",
    "                elif layer == len(architecture)-1:\n",
    "                    h.append(tf.matmul(h[layer-1], weights[layer]) + biases[layer])\n",
    "                else :\n",
    "                    if 'depth' in architecture[layer]:\n",
    "                        conv = tf.nn.conv2d(h[layer-1] , weights[layer], [1, 1, 1, 1], padding='SAME')\n",
    "                        hidden = tf.nn.dropout(tf.nn.relu(conv + biases[layer]), keep_prob=dropout)\n",
    "                        h.append(tf.nn.max_pool(hidden, [1, 2, 2, 1], [1, 2, 2, 1], padding='SAME'))\n",
    "                    else:\n",
    "                        if'depth' in architecture[layer-1]:\n",
    "                            shape = h[layer-1].get_shape().as_list()\n",
    "                            reshape = tf.reshape(h[layer-1], [shape[0], shape[1] * shape[2] * shape[3]])\n",
    "                            h.append(tf.nn.dropout(tf.nn.relu(tf.matmul(reshape, weights[layer]) + biases[layer]), keep_prob=dropout))\n",
    "                        else:\n",
    "                            h.append(tf.nn.dropout(tf.nn.relu(tf.matmul(h[layer-1], weights[layer]) + biases[layer]), keep_prob=dropout))\n",
    "            \n",
    "            return h\n",
    "        \n",
    "        layers = model(tf_train_dataset)\n",
    "        train_logits = layers[len(architecture)-1]\n",
    "\n",
    "        # Loss\n",
    "        loss = tf.reduce_mean(\n",
    "            tf.nn.softmax_cross_entropy_with_logits(\n",
    "                labels=tf_train_labels, \n",
    "                logits=train_logits) + sum([regularization*_r for _r in Regularizations]))\n",
    "\n",
    "        # Optimizer.\n",
    "        if optimizer_name == \"sgd\":\n",
    "            optimizer = tf.train.GradientDescentOptimizer(learning_rate).minimize(loss)\n",
    "        elif optimizer_name == \"sgd_decay\":\n",
    "            global_step = tf.Variable(0)  # count the number of steps taken.\n",
    "            learning_rate = tf.train.exponential_decay(learning_rate, global_step, 500, 0.96)\n",
    "            optimizer = tf.train.GradientDescentOptimizer(learning_rate).minimize(loss, global_step=global_step)\n",
    "        elif optimizer_name == \"rmsprop\":\n",
    "            optimizer = tf.train.RMSPropOptimizer(learning_rate).minimize(loss)\n",
    "        elif optimizer_name == \"adam\":\n",
    "            optimizer = tf.train.AdamOptimizer(learning_rate).minimize(loss)\n",
    "\n",
    "        # Predictions for the training, validation, and test data.\n",
    "        train_prediction = tf.nn.softmax(train_logits)\n",
    "\n",
    "        valid_logits = model(tf_valid_dataset)[len(architecture)-1]\n",
    "        valid_prediction = tf.nn.softmax(valid_logits)\n",
    "\n",
    "        test_logits = model(tf_test_dataset)[len(architecture)-1]\n",
    "        test_prediction = tf.nn.softmax(test_logits)\n",
    "        \n",
    "        return tf_train_dataset, tf_train_labels, graph, optimizer, loss, train_prediction, valid_prediction, test_prediction, layers, weights"
   ]
  },
  {
   "cell_type": "markdown",
   "metadata": {},
   "source": [
    "# Utils"
   ]
  },
  {
   "cell_type": "code",
   "execution_count": 8,
   "metadata": {
    "collapsed": true
   },
   "outputs": [],
   "source": [
    "def plot_conv_weights(session, weights, input_channel=0):\n",
    "    # Assume weights are TensorFlow ops for 4-dim variables\n",
    "    # e.g. weights_conv1 or weights_conv2.\n",
    "    \n",
    "    # Retrieve the values of the weight-variables from TensorFlow.\n",
    "    # A feed-dict is not necessary because nothing is calculated.\n",
    "    w = session.run(weights)\n",
    "\n",
    "    # Get the lowest and highest values for the weights.\n",
    "    # This is used to correct the colour intensity across\n",
    "    # the images so they can be compared with each other.\n",
    "    w_min = np.min(w)\n",
    "    w_max = np.max(w)\n",
    "\n",
    "    # Number of filters used in the conv. layer.\n",
    "    num_filters = w.shape[3]\n",
    "\n",
    "    # Number of grids to plot.\n",
    "    # Rounded-up, square-root of the number of filters.\n",
    "    num_grids = math.ceil(math.sqrt(num_filters))\n",
    "    \n",
    "    # Create figure with a grid of sub-plots.\n",
    "    fig, axes = plt.subplots(num_grids, num_grids)\n",
    "\n",
    "    # Plot all the filter-weights.\n",
    "    for i, ax in enumerate(axes.flat):\n",
    "        # Only plot the valid filter-weights.\n",
    "        if i<num_filters:\n",
    "            # Get the weights for the i'th filter of the input channel.\n",
    "            # See new_conv_layer() for details on the format\n",
    "            # of this 4-dim tensor.\n",
    "            img = w[:, :, input_channel, i]\n",
    "\n",
    "            # Plot image.\n",
    "            ax.imshow(img, vmin=w_min, vmax=w_max,\n",
    "                      interpolation='nearest', cmap='binary')\n",
    "        \n",
    "        # Remove ticks from the plot.\n",
    "        ax.set_xticks([])\n",
    "        ax.set_yticks([])\n",
    "    \n",
    "    # Ensure the plot is shown correctly with multiple plots\n",
    "    # in a single Notebook cell.\n",
    "    plt.show()"
   ]
  },
  {
   "cell_type": "code",
   "execution_count": 9,
   "metadata": {
    "collapsed": true
   },
   "outputs": [],
   "source": [
    "\n",
    "def plot_conv_layer(session, tf_train_dataset, layer, image):\n",
    "    # Assume layer is a TensorFlow op that outputs a 4-dim tensor\n",
    "    # which is the output of a convolutional layer,\n",
    "    # e.g. layer_conv1 or layer_conv2.\n",
    "\n",
    "    # Create a feed-dict containing just one image.\n",
    "    # Note that we don't need to feed y_true because it is\n",
    "    # not used in this calculation.\n",
    "    feed_dict = {tf_train_dataset: image}\n",
    "\n",
    "    # Calculate and retrieve the output values of the layer\n",
    "    # when inputting that image.\n",
    "    values = session.run(layer, feed_dict=feed_dict)\n",
    "\n",
    "    # Number of filters used in the conv. layer.\n",
    "    num_filters = values.shape[3]\n",
    "\n",
    "    # Number of grids to plot.\n",
    "    # Rounded-up, square-root of the number of filters.\n",
    "    num_grids = math.ceil(math.sqrt(num_filters))\n",
    "    \n",
    "    # Create figure with a grid of sub-plots.\n",
    "    fig, axes = plt.subplots(num_grids, num_grids)\n",
    "\n",
    "    # Plot the output images of all the filters.\n",
    "    for i, ax in enumerate(axes.flat):\n",
    "        # Only plot the images for valid filters.\n",
    "        if i<num_filters:\n",
    "            # Get the output image of using the i'th filter.\n",
    "            # See new_conv_layer() for details on the format\n",
    "            # of this 4-dim tensor.\n",
    "            img = values[0, :, :, i]\n",
    "\n",
    "            # Plot image.\n",
    "            ax.imshow(img, interpolation='nearest', cmap='binary')\n",
    "        \n",
    "        # Remove ticks from the plot.\n",
    "        ax.set_xticks([])\n",
    "        ax.set_yticks([])\n",
    "    \n",
    "    # Ensure the plot is shown correctly with multiple plots\n",
    "    # in a single Notebook cell.\n",
    "    plt.show()"
   ]
  },
  {
   "cell_type": "markdown",
   "metadata": {},
   "source": [
    "# Training"
   ]
  },
  {
   "cell_type": "code",
   "execution_count": 10,
   "metadata": {
    "collapsed": true
   },
   "outputs": [],
   "source": [
    "def accuracy(predictions, labels):\n",
    "  return (100.0 * np.sum(np.argmax(predictions, 1) == np.argmax(labels, 1))\n",
    "          / predictions.shape[0])"
   ]
  },
  {
   "cell_type": "code",
   "execution_count": 11,
   "metadata": {
    "collapsed": true
   },
   "outputs": [],
   "source": [
    "def get_minibatch(batch_size, samples_id, training_size):\n",
    "    if batch_size > len(samples_id):\n",
    "        new_samples = list(range(training_size-1))\n",
    "        random.shuffle(new_samples)\n",
    "        samples_id.extend(new_samples)\n",
    "    \n",
    "    next_batch = samples_id[:batch_size]\n",
    "    samples_id = samples_id[batch_size:]\n",
    "    \n",
    "    return next_batch, samples_id "
   ]
  },
  {
   "cell_type": "code",
   "execution_count": 12,
   "metadata": {
    "collapsed": true,
    "scrolled": false
   },
   "outputs": [],
   "source": [
    "def train_nn(architecture, batch_size, num_epochs, early_stopping_patience, dropout=1, regularization=0, optimizer_name='sgd', learning_rate=0.1):\n",
    "    nb_steps = train_dataset.shape[0] // batch_size\n",
    "    tf_train_dataset, tf_train_labels, graph, optimizer, loss, train_prediction, valid_prediction, test_prediction, layers, weights = neural_net(architecture,\n",
    "                                                                                                                                batch_size, \n",
    "                                                                                                                                dropout, \n",
    "                                                                                                                                regularization, \n",
    "                                                                                                                                optimizer_name,\n",
    "                                                                                                                                learning_rate)\n",
    "\n",
    "    with tf.Session(graph=graph) as session:\n",
    "        saver = tf.train.Saver()\n",
    "        tf.global_variables_initializer().run()\n",
    "        print(\"Initialized\")\n",
    "        early_stopping = False\n",
    "        for epoch in range(num_epochs):\n",
    "            if early_stopping : break\n",
    "            print(\"Epoch : \" + str(epoch))\n",
    "            ids = []\n",
    "            for step in range(nb_steps):\n",
    "                batch_ids, ids = get_minibatch(batch_size, ids, train_dataset.shape[0])\n",
    "                batch_data = train_dataset[batch_ids, :]\n",
    "                batch_labels = train_labels[batch_ids, :]\n",
    "\n",
    "                feed_dict = {tf_train_dataset : batch_data, tf_train_labels : batch_labels}\n",
    "                _, l, predictions = session.run(\n",
    "                  [optimizer, loss, train_prediction], feed_dict=feed_dict)\n",
    "\n",
    "                if (step % 500 == 0):\n",
    "                    print(\"Minibatch loss at epoch %d and step %d: %f\" % (epoch, step, l))\n",
    "                    print(\"Minibatch accuracy: %.1f%%\" % accuracy(predictions, batch_labels))\n",
    "                    print(\"Validation accuracy: %.1f%%\" % accuracy(valid_prediction.eval(), valid_labels))\n",
    "                    \n",
    "                # Early Stopping\n",
    "                min_delta = 0.01\n",
    "                \n",
    "                if step == 0:\n",
    "                    patience_cnt = 0\n",
    "                if step > 0 and old_loss - l > min_delta:\n",
    "                    patience_cnt = 0\n",
    "                else:\n",
    "                    patience_cnt += 1\n",
    "                    \n",
    "                old_loss = l\n",
    "\n",
    "                if patience_cnt > early_stopping_patience:\n",
    "                    print(\"early stopping...\")\n",
    "                    early_stopping = True\n",
    "                    break\n",
    "        print(\"Test accuracy: %.1f%%\" % accuracy(test_prediction.eval(), test_labels))\n",
    "        saver.save(session, \"/tmp/model.ckpt\")\n",
    "        return graph, layers, weights, tf_train_dataset, tf_train_labels"
   ]
  },
  {
   "cell_type": "markdown",
   "metadata": {},
   "source": [
    "# Tests"
   ]
  },
  {
   "cell_type": "code",
   "execution_count": 13,
   "metadata": {
    "scrolled": true
   },
   "outputs": [
    {
     "name": "stdout",
     "output_type": "stream",
     "text": [
      "WARNING:tensorflow:From <ipython-input-7-cd299a74f1a3>:89: softmax_cross_entropy_with_logits (from tensorflow.python.ops.nn_ops) is deprecated and will be removed in a future version.\n",
      "Instructions for updating:\n",
      "\n",
      "Future major versions of TensorFlow will allow gradients to flow\n",
      "into the labels input on backprop by default.\n",
      "\n",
      "See tf.nn.softmax_cross_entropy_with_logits_v2.\n",
      "\n",
      "Initialized\n",
      "Epoch : 0\n",
      "Minibatch loss at epoch 0 and step 0: 2.301790\n",
      "Minibatch accuracy: 12.5%\n",
      "Validation accuracy: 10.4%\n",
      "Minibatch loss at epoch 0 and step 500: 0.552510\n",
      "Minibatch accuracy: 79.7%\n",
      "Validation accuracy: 84.1%\n",
      "Minibatch loss at epoch 0 and step 1000: 0.397091\n",
      "Minibatch accuracy: 87.5%\n",
      "Validation accuracy: 86.5%\n",
      "Minibatch loss at epoch 0 and step 1500: 0.462878\n",
      "Minibatch accuracy: 89.1%\n",
      "Validation accuracy: 86.3%\n",
      "Epoch : 1\n",
      "Minibatch loss at epoch 1 and step 0: 0.672031\n",
      "Minibatch accuracy: 82.0%\n",
      "Validation accuracy: 86.8%\n",
      "Minibatch loss at epoch 1 and step 500: 0.339408\n",
      "Minibatch accuracy: 91.4%\n",
      "Validation accuracy: 86.8%\n",
      "Minibatch loss at epoch 1 and step 1000: 0.446633\n",
      "Minibatch accuracy: 89.1%\n",
      "Validation accuracy: 85.3%\n",
      "Minibatch loss at epoch 1 and step 1500: 0.598544\n",
      "Minibatch accuracy: 83.6%\n",
      "Validation accuracy: 86.2%\n",
      "Epoch : 2\n",
      "Minibatch loss at epoch 2 and step 0: 0.397412\n",
      "Minibatch accuracy: 87.5%\n",
      "Validation accuracy: 87.0%\n",
      "Minibatch loss at epoch 2 and step 500: 0.391281\n",
      "Minibatch accuracy: 85.2%\n",
      "Validation accuracy: 87.2%\n",
      "Minibatch loss at epoch 2 and step 1000: 0.495456\n",
      "Minibatch accuracy: 83.6%\n",
      "Validation accuracy: 87.0%\n",
      "Minibatch loss at epoch 2 and step 1500: 0.428963\n",
      "Minibatch accuracy: 83.6%\n",
      "Validation accuracy: 87.0%\n",
      "Epoch : 3\n",
      "Minibatch loss at epoch 3 and step 0: 0.400128\n",
      "Minibatch accuracy: 88.3%\n",
      "Validation accuracy: 87.2%\n",
      "Minibatch loss at epoch 3 and step 500: 0.465217\n",
      "Minibatch accuracy: 82.0%\n",
      "Validation accuracy: 87.0%\n",
      "Minibatch loss at epoch 3 and step 1000: 0.406513\n",
      "Minibatch accuracy: 87.5%\n",
      "Validation accuracy: 86.5%\n",
      "Minibatch loss at epoch 3 and step 1500: 0.451277\n",
      "Minibatch accuracy: 86.7%\n",
      "Validation accuracy: 86.5%\n",
      "Epoch : 4\n",
      "Minibatch loss at epoch 4 and step 0: 0.353052\n",
      "Minibatch accuracy: 88.3%\n",
      "Validation accuracy: 87.0%\n",
      "Minibatch loss at epoch 4 and step 500: 0.487189\n",
      "Minibatch accuracy: 85.2%\n",
      "Validation accuracy: 87.3%\n",
      "Minibatch loss at epoch 4 and step 1000: 0.450410\n",
      "Minibatch accuracy: 82.8%\n",
      "Validation accuracy: 87.3%\n",
      "Minibatch loss at epoch 4 and step 1500: 0.278836\n",
      "Minibatch accuracy: 90.6%\n",
      "Validation accuracy: 86.8%\n",
      "Epoch : 5\n",
      "Minibatch loss at epoch 5 and step 0: 0.257162\n",
      "Minibatch accuracy: 90.6%\n",
      "Validation accuracy: 87.1%\n",
      "Minibatch loss at epoch 5 and step 500: 0.441867\n",
      "Minibatch accuracy: 87.5%\n",
      "Validation accuracy: 86.9%\n",
      "Minibatch loss at epoch 5 and step 1000: 0.476722\n",
      "Minibatch accuracy: 82.0%\n",
      "Validation accuracy: 86.5%\n",
      "Minibatch loss at epoch 5 and step 1500: 0.351490\n",
      "Minibatch accuracy: 88.3%\n",
      "Validation accuracy: 86.2%\n",
      "Epoch : 6\n",
      "Minibatch loss at epoch 6 and step 0: 0.355328\n",
      "Minibatch accuracy: 88.3%\n",
      "Validation accuracy: 87.1%\n",
      "Minibatch loss at epoch 6 and step 500: 0.561127\n",
      "Minibatch accuracy: 84.4%\n",
      "Validation accuracy: 86.2%\n",
      "Minibatch loss at epoch 6 and step 1000: 0.435613\n",
      "Minibatch accuracy: 89.8%\n",
      "Validation accuracy: 85.9%\n",
      "Minibatch loss at epoch 6 and step 1500: 0.390923\n",
      "Minibatch accuracy: 85.9%\n",
      "Validation accuracy: 86.2%\n",
      "Epoch : 7\n",
      "Minibatch loss at epoch 7 and step 0: 0.393404\n",
      "Minibatch accuracy: 87.5%\n",
      "Validation accuracy: 86.9%\n",
      "Minibatch loss at epoch 7 and step 500: 0.305551\n",
      "Minibatch accuracy: 90.6%\n",
      "Validation accuracy: 87.4%\n",
      "Minibatch loss at epoch 7 and step 1000: 0.319949\n",
      "Minibatch accuracy: 91.4%\n",
      "Validation accuracy: 86.9%\n",
      "Minibatch loss at epoch 7 and step 1500: 0.600278\n",
      "Minibatch accuracy: 83.6%\n",
      "Validation accuracy: 84.9%\n",
      "Epoch : 8\n",
      "Minibatch loss at epoch 8 and step 0: 0.397093\n",
      "Minibatch accuracy: 84.4%\n",
      "Validation accuracy: 86.6%\n",
      "Minibatch loss at epoch 8 and step 500: 0.311959\n",
      "Minibatch accuracy: 89.1%\n",
      "Validation accuracy: 87.2%\n",
      "Minibatch loss at epoch 8 and step 1000: 0.441997\n",
      "Minibatch accuracy: 85.2%\n",
      "Validation accuracy: 86.9%\n",
      "Minibatch loss at epoch 8 and step 1500: 0.289436\n",
      "Minibatch accuracy: 89.8%\n",
      "Validation accuracy: 86.8%\n",
      "Epoch : 9\n",
      "Minibatch loss at epoch 9 and step 0: 0.544941\n",
      "Minibatch accuracy: 80.5%\n",
      "Validation accuracy: 85.4%\n",
      "Minibatch loss at epoch 9 and step 500: 0.534197\n",
      "Minibatch accuracy: 87.5%\n",
      "Validation accuracy: 85.0%\n",
      "Minibatch loss at epoch 9 and step 1000: 0.380668\n",
      "Minibatch accuracy: 87.5%\n",
      "Validation accuracy: 86.7%\n",
      "Minibatch loss at epoch 9 and step 1500: 0.309559\n",
      "Minibatch accuracy: 89.1%\n",
      "Validation accuracy: 86.4%\n",
      "Test accuracy: 92.1%\n"
     ]
    }
   ],
   "source": [
    "architecture = [\n",
    "    {'patch_size':5, 'depth':3},\n",
    "    {'patch_size':5, 'depth':3},\n",
    "    {'num_hidden':64},\n",
    "    {'num_hidden':num_labels}\n",
    "]\n",
    "\n",
    "graph, layers, weights, tf_train_dataset, tf_train_labels = train_nn(architecture=architecture,\n",
    "                         batch_size=128, \n",
    "                         num_epochs=10,\n",
    "                         learning_rate=0.01,\n",
    "                         early_stopping_patience=50,\n",
    "                         optimizer_name=\"rmsprop\")"
   ]
  },
  {
   "cell_type": "code",
   "execution_count": 14,
   "metadata": {},
   "outputs": [
    {
     "name": "stdout",
     "output_type": "stream",
     "text": [
      "INFO:tensorflow:Restoring parameters from /tmp/model.ckpt\n"
     ]
    },
    {
     "data": {
      "image/png": "[encoded data removed]",
      "text/plain": [
       "<matplotlib.figure.Figure at 0x15ab0bbabe0>"
      ]
     },
     "metadata": {},
     "output_type": "display_data"
    }
   ],
   "source": [
    "with tf.Session(graph=graph) as sess:\n",
    "    saver = tf.train.Saver()\n",
    "    saver.restore(sess, \"/tmp/model.ckpt\")\n",
    "    plot_conv_weights(sess, weights=weights[0])"
   ]
  },
  {
   "cell_type": "code",
   "execution_count": 15,
   "metadata": {},
   "outputs": [
    {
     "name": "stdout",
     "output_type": "stream",
     "text": [
      "INFO:tensorflow:Restoring parameters from /tmp/model.ckpt\n"
     ]
    },
    {
     "data": {
      "image/png": "[encoded data removed]",
      "text/plain": [
       "<matplotlib.figure.Figure at 0x15a937a54a8>"
      ]
     },
     "metadata": {},
     "output_type": "display_data"
    }
   ],
   "source": [
    "with tf.Session(graph=graph) as sess:\n",
    "    saver = tf.train.Saver()\n",
    "    saver.restore(sess, \"/tmp/model.ckpt\")\n",
    "    plot_conv_weights(sess, weights=weights[1])"
   ]
  },
  {
   "cell_type": "code",
   "execution_count": 16,
   "metadata": {},
   "outputs": [
    {
     "name": "stdout",
     "output_type": "stream",
     "text": [
      "[0. 0. 0. 0. 0. 0. 0. 1. 0. 0.]\n",
      "INFO:tensorflow:Restoring parameters from /tmp/model.ckpt\n"
     ]
    },
    {
     "data": {
      "image/png": "[encoded data removed]",
      "text/plain": [
       "<matplotlib.figure.Figure at 0x15a808f6b38>"
      ]
     },
     "metadata": {},
     "output_type": "display_data"
    },
    {
     "data": {
      "image/png": "[encoded data removed]",
      "text/plain": [
       "<matplotlib.figure.Figure at 0x15a8065fb38>"
      ]
     },
     "metadata": {},
     "output_type": "display_data"
    }
   ],
   "source": [
    "plot_image(test_dataset, test_labels, 3)\n",
    "\n",
    "with tf.Session(graph=graph) as sess:\n",
    "    saver = tf.train.Saver()\n",
    "    saver.restore(sess, \"/tmp/model.ckpt\")\n",
    "    plot_conv_layer(sess, tf_train_dataset, layer=layers[0], image=test_dataset[3:131])"
   ]
  },
  {
   "cell_type": "code",
   "execution_count": null,
   "metadata": {
    "scrolled": true
   },
   "outputs": [],
   "source": [
    "architecture = [\n",
    "    {'patch_size':5, 'depth':5},\n",
    "    {'num_hidden':200},\n",
    "    {'num_hidden':num_labels}\n",
    "]\n",
    "\n",
    "train_nn(architecture=architecture,\n",
    "         batch_size=128, \n",
    "         num_epochs=20,\n",
    "         learning_rate=0.01,\n",
    "         dropout=0.8,\n",
    "         early_stopping_patience=50,\n",
    "         optimizer_name=\"rmsprop\")"
   ]
  }
 ],
 "metadata": {
  "kernelspec": {
   "display_name": "Python 3",
   "language": "python",
   "name": "python3"
  },
  "language_info": {
   "codemirror_mode": {
    "name": "ipython",
    "version": 3
   },
   "file_extension": ".py",
   "mimetype": "text/x-python",
   "name": "python",
   "nbconvert_exporter": "python",
   "pygments_lexer": "ipython3",
   "version": "3.6.4"
  }
 },
 "nbformat": 4,
 "nbformat_minor": 2
}
